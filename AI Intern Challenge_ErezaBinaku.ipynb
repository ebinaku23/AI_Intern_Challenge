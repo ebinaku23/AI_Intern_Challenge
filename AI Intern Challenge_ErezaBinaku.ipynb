{
 "cells": [
  {
   "cell_type": "markdown",
   "id": "5c2895d6-d6ca-45f6-a753-b442b6c71560",
   "metadata": {},
   "source": [
    "BBC News Classification Dataset"
   ]
  },
  {
   "cell_type": "code",
   "execution_count": 243,
   "id": "51eb4d1a-0588-4a37-b799-8aadafab6c17",
   "metadata": {},
   "outputs": [],
   "source": [
    "import pandas as pd\n",
    "import numpy as np\n",
    "import re\n",
    "from sklearn.feature_extraction.text import ENGLISH_STOP_WORDS\n",
    "from sklearn.model_selection import train_test_split  # <--- this is essential\n",
    "import matplotlib.pyplot as plt\n",
    "%matplotlib inline\n",
    "from collections import Counter\n",
    "import re\n",
    "\n",
    "from sklearn.feature_extraction.text import TfidfVectorizer\n",
    "\n",
    "from sklearn.linear_model import LogisticRegression\n",
    "from sklearn.metrics import accuracy_score, classification_report\n",
    "\n",
    "from sklearn.naive_bayes import MultinomialNB\n",
    "\n",
    "import seaborn as sns\n",
    "from sklearn.metrics import confusion_matrix"
   ]
  },
  {
   "cell_type": "markdown",
   "id": "c86e0a4d-e6be-47cf-98ef-4ccff8a378f0",
   "metadata": {},
   "source": [
    "1.Data Preparation"
   ]
  },
  {
   "cell_type": "code",
   "execution_count": 153,
   "id": "46dd7c2f-1176-4730-af6f-61fe900d5025",
   "metadata": {},
   "outputs": [],
   "source": [
    "# Loading training and test data (the dataset is already divided like this)\n",
    "train_df = pd.read_csv(\"BBC News Train.csv\")\n",
    "test_df = pd.read_csv(\"BBC News Test.csv\")"
   ]
  },
  {
   "cell_type": "code",
   "execution_count": 154,
   "id": "9e963ba5-905c-4ac4-ab3e-ea5c8c7b7f4a",
   "metadata": {},
   "outputs": [
    {
     "name": "stdout",
     "output_type": "stream",
     "text": [
      "Training Data:\n",
      "   ArticleId                                               Text  Category\n",
      "0       1833  worldcom ex-boss launches defence lawyers defe...  business\n",
      "1        154  german business confidence slides german busin...  business\n",
      "2       1101  bbc poll indicates economic gloom citizens in ...  business\n",
      "3       1976  lifestyle  governs mobile choice  faster  bett...      tech\n",
      "4        917  enron bosses in $168m payout eighteen former e...  business\n",
      "\n",
      "Test Data:\n",
      "   ArticleId                                               Text\n",
      "0       1018  qpr keeper day heads for preston queens park r...\n",
      "1       1319  software watching while you work software that...\n",
      "2       1138  d arcy injury adds to ireland woe gordon d arc...\n",
      "3        459  india s reliance family feud heats up the ongo...\n",
      "4       1020  boro suffer morrison injury blow middlesbrough...\n"
     ]
    }
   ],
   "source": [
    "# Checking the first few rows\n",
    "print(\"Training Data:\")\n",
    "print(train_df.head())\n",
    "\n",
    "print(\"\\nTest Data:\")\n",
    "print(test_df.head())"
   ]
  },
  {
   "cell_type": "code",
   "execution_count": 155,
   "id": "0d410a4d-d72f-43af-8ed6-e28bb8b78652",
   "metadata": {
    "scrolled": true
   },
   "outputs": [
    {
     "name": "stdout",
     "output_type": "stream",
     "text": [
      "Train shape: (1490, 3)\n",
      "Test shape: (735, 2)\n"
     ]
    }
   ],
   "source": [
    "print(\"Train shape:\", train_df.shape)\n",
    "print(\"Test shape:\", test_df.shape)"
   ]
  },
  {
   "cell_type": "code",
   "execution_count": 156,
   "id": "5b92a33d-e9af-4b69-bdf4-906343563165",
   "metadata": {},
   "outputs": [
    {
     "name": "stdout",
     "output_type": "stream",
     "text": [
      "Training categories distribution:\n",
      "Category\n",
      "sport            346\n",
      "business         336\n",
      "politics         274\n",
      "entertainment    273\n",
      "tech             261\n",
      "Name: count, dtype: int64\n"
     ]
    }
   ],
   "source": [
    "print(\"Training categories distribution:\")\n",
    "print(train_df['Category'].value_counts())"
   ]
  },
  {
   "cell_type": "markdown",
   "id": "38767b5b-30e0-424b-b109-a8114df7cb77",
   "metadata": {},
   "source": [
    "Following this analysis of both the datsets that are offered within the BBC News Classification ds, the rest of this challenge with focus only on the training dataset due to the fact that the provided test set does not include category labels."
   ]
  },
  {
   "cell_type": "code",
   "execution_count": 158,
   "id": "dcf38a09-d5d0-4272-843c-6d992d467312",
   "metadata": {},
   "outputs": [
    {
     "name": "stdout",
     "output_type": "stream",
     "text": [
      "Train set size: (1192, 3)\n",
      "Validation set size: (298, 3)\n",
      "\n",
      "Train category counts:\n",
      " Category\n",
      "sport            277\n",
      "business         269\n",
      "politics         219\n",
      "entertainment    218\n",
      "tech             209\n",
      "Name: count, dtype: int64\n",
      "\n",
      "Validation category counts:\n",
      " Category\n",
      "sport            69\n",
      "business         67\n",
      "entertainment    55\n",
      "politics         55\n",
      "tech             52\n",
      "Name: count, dtype: int64\n"
     ]
    }
   ],
   "source": [
    "#In order to properly train and evaluate the model, a stratified split (80/20) is\n",
    "#performed on the training dataset, ensuring a balanced representation of the categories.\n",
    "train_set, val_set = train_test_split(\n",
    "    train_df, \n",
    "    test_size=0.2, \n",
    "    random_state=42, \n",
    "    stratify=train_df['Category']\n",
    ")\n",
    "\n",
    "print(\"Train set size:\", train_set.shape)\n",
    "print(\"Validation set size:\", val_set.shape)\n",
    "\n",
    "# Check category distribution\n",
    "print(\"\\nTrain category counts:\\n\", train_set['Category'].value_counts())\n",
    "print(\"\\nValidation category counts:\\n\", val_set['Category'].value_counts())"
   ]
  },
  {
   "cell_type": "code",
   "execution_count": 251,
   "id": "33a70dd3-4937-4b79-89fe-39ab0c8e3a8c",
   "metadata": {},
   "outputs": [],
   "source": [
    "#text preprocessing steps to convert to lowecase, removing the URLs, \n",
    "#emails, punctuation, numbers etc, in order for the model to focus on meaningful \n",
    "#words for the classification.\n",
    "\n",
    "stop_words = set(ENGLISH_STOP_WORDS)\n",
    "\n",
    "def clean_text(text, remove_stopwords=True):\n",
    "#Lowercase\n",
    "    text = str(text).lower()\n",
    "    \n",
    "#Removes URLs and emails\n",
    "    text = re.sub(r'http\\S+|www\\.\\S+', ' ', text)\n",
    "    text = re.sub(r'\\S+@\\S+', ' ', text)\n",
    "    \n",
    "#Keeps letters only\n",
    "    text = re.sub(r'[^a-z\\s]', ' ', text)\n",
    "    text = re.sub(r'\\s+', ' ', text).strip()\n",
    "    \n",
    "    tokens = text.split()\n",
    "    \n",
    "#Removes stopwords\n",
    "    if remove_stopwords:\n",
    "        tokens = [t for t in tokens if t not in stop_words]\n",
    "    \n",
    "#Removes single-character tokens\n",
    "    tokens = [t for t in tokens if len(t) > 1]\n",
    "    \n",
    "    return ' '.join(tokens)\n"
   ]
  },
  {
   "cell_type": "code",
   "execution_count": 253,
   "id": "2b2ece43-c954-486a-92a0-699e5b785e9f",
   "metadata": {},
   "outputs": [],
   "source": [
    "#Applying cleaning\n",
    "train_set['clean_text'] = train_set['Text'].apply(clean_text)\n",
    "val_set['clean_text'] = val_set['Text'].apply(clean_text)"
   ]
  },
  {
   "cell_type": "code",
   "execution_count": 255,
   "id": "7dc84da7-e2a8-470b-b6be-e1fe2a4bd2af",
   "metadata": {},
   "outputs": [
    {
     "name": "stdout",
     "output_type": "stream",
     "text": [
      "Original: winter freeze keeps oil above $50 oil prices carried on rising on wednesday after cold weather on both sides of the north atlantic pushed us crude prices to four-month highs.  freezing temperatures an\n",
      "Cleaned:  winter freeze keeps oil oil prices carried rising wednesday cold weather sides north atlantic pushed crude prices month highs freezing temperatures heavy snowfalls took crude oil prices past barrel tu\n",
      "\n",
      "Original: concerns over windows atms cash machine networks could soon be more susceptible to computer viruses  a security firm has warned.  the warning is being issued because many banks are starting to use the\n",
      "Cleaned:  concerns windows atms cash machine networks soon susceptible computer viruses security firm warned warning issued banks starting use windows operating machines incidents windows viruses disrupted netw\n",
      "\n",
      "Original: holmes is hit by hamstring injury kelly holmes has been forced out of this weekend s european indoor athletics championships after picking up a hamstring injury during training.  the double olympic ch\n",
      "Cleaned:  holmes hit hamstring injury kelly holmes forced weekend european indoor athletics championships picking hamstring injury training double olympic champion said disappointed forced withdraw hardly walk \n",
      "\n"
     ]
    }
   ],
   "source": [
    "#Showing a few examples\n",
    "for i in range(3):\n",
    "    print(\"Original:\", train_set['Text'].iloc[i][:200])\n",
    "    print(\"Cleaned: \", train_set['clean_text'].iloc[i][:200])\n",
    "    print()\n"
   ]
  },
  {
   "cell_type": "code",
   "execution_count": 188,
   "id": "91e57468-ca22-43cf-90e5-9db411a6b5fa",
   "metadata": {},
   "outputs": [
    {
     "data": {
      "image/png": "[encoded data removed]",
      "text/plain": [
       "<Figure size 600x400 with 1 Axes>"
      ]
     },
     "metadata": {},
     "output_type": "display_data"
    }
   ],
   "source": [
    "#Ploting category distribution in training set\n",
    "train_set['Category'].value_counts().plot(kind='bar', figsize=(6,4), title='Train Set Category Distribution')\n",
    "plt.xlabel('Category')\n",
    "plt.ylabel('Count')\n",
    "plt.show()"
   ]
  },
  {
   "cell_type": "code",
   "execution_count": 190,
   "id": "a27922e7-2001-454e-bf0c-05da98b3ec68",
   "metadata": {},
   "outputs": [
    {
     "name": "stdout",
     "output_type": "stream",
     "text": [
      "Clean dataset!\n"
     ]
    }
   ],
   "source": [
    "train_set.to_csv('train_clean.csv', index=False)\n",
    "val_set.to_csv('val_clean.csv', index=False)\n",
    "\n",
    "print(\"Clean dataset!\")"
   ]
  },
  {
   "cell_type": "markdown",
   "id": "5e66c88e-cc42-4fd7-8216-2d3f547aa2fd",
   "metadata": {},
   "source": [
    "2. EDA"
   ]
  },
  {
   "cell_type": "code",
   "execution_count": 193,
   "id": "307044b4-e92d-4f84-b0ae-b209c6430496",
   "metadata": {},
   "outputs": [
    {
     "name": "stdout",
     "output_type": "stream",
     "text": [
      "Number of samples per category:\n",
      " Category\n",
      "sport            277\n",
      "business         269\n",
      "politics         219\n",
      "entertainment    218\n",
      "tech             209\n",
      "Name: count, dtype: int64\n"
     ]
    },
    {
     "data": {
      "image/png": "[encoded data removed]",
      "text/plain": [
       "<Figure size 600x400 with 1 Axes>"
      ]
     },
     "metadata": {},
     "output_type": "display_data"
    }
   ],
   "source": [
    "#Showing the ounting of samples per category in the training set again to align \n",
    "#with the plots\n",
    "category_counts = train_set['Category'].value_counts()\n",
    "print(\"Number of samples per category:\\n\", category_counts)\n",
    "\n",
    "#Ploting it\n",
    "category_counts.plot(kind='bar', figsize=(6,4), title='Training Set Category Distribution')\n",
    "plt.xlabel('Category')\n",
    "plt.ylabel('Number of Samples')\n",
    "plt.show()"
   ]
  },
  {
   "cell_type": "code",
   "execution_count": 195,
   "id": "c8207a01-ed50-4238-b8c7-f5a8fae531e3",
   "metadata": {},
   "outputs": [
    {
     "name": "stdout",
     "output_type": "stream",
     "text": [
      "Top 20 most frequent words:\n",
      "[('said', 3797), ('mr', 1589), ('year', 1246), ('people', 1099), ('new', 1059), ('time', 692), ('world', 641), ('uk', 603), ('government', 585), ('best', 525), ('years', 514), ('just', 507), ('film', 499), ('make', 487), ('told', 478), ('bn', 472), ('game', 471), ('number', 459), ('like', 440), ('labour', 436)]\n"
     ]
    }
   ],
   "source": [
    "#Checking the most common words \n",
    "\n",
    "#Combining all cleaned text in train set\n",
    "all_words = ' '.join(train_set['clean_text']).split()\n",
    "\n",
    "#Counting the frequencies\n",
    "word_freq = Counter(all_words)\n",
    "\n",
    "#Showing top 20 most common words\n",
    "print(\"Top 20 most frequent words:\")\n",
    "print(word_freq.most_common(20))"
   ]
  },
  {
   "cell_type": "code",
   "execution_count": 197,
   "id": "f8a2b9ae-586b-4ac9-8060-fd544897c45b",
   "metadata": {},
   "outputs": [
    {
     "name": "stdout",
     "output_type": "stream",
     "text": [
      "Top words for category 'business':\n",
      "[('said', 869), ('bn', 417), ('year', 363), ('mr', 306), ('market', 234), ('new', 221), ('growth', 209), ('firm', 207), ('economy', 196), ('company', 193)]\n",
      "\n",
      "Top words for category 'tech':\n",
      "[('said', 829), ('people', 535), ('mobile', 293), ('new', 272), ('mr', 269), ('technology', 238), ('use', 221), ('year', 218), ('net', 215), ('users', 212)]\n",
      "\n",
      "Top words for category 'sport':\n",
      "[('said', 503), ('game', 295), ('england', 281), ('year', 262), ('time', 227), ('win', 226), ('world', 226), ('team', 174), ('cup', 173), ('ireland', 169)]\n",
      "\n",
      "Top words for category 'entertainment':\n",
      "[('said', 462), ('film', 453), ('best', 349), ('year', 259), ('music', 203), ('new', 178), ('number', 158), ('awards', 156), ('actor', 137), ('director', 136)]\n",
      "\n",
      "Top words for category 'politics':\n",
      "[('said', 1134), ('mr', 878), ('labour', 417), ('government', 358), ('blair', 347), ('election', 344), ('party', 330), ('people', 316), ('minister', 225), ('new', 223)]\n",
      "\n"
     ]
    }
   ],
   "source": [
    "#Checking the most common words per category\n",
    "\n",
    "def top_words(category, n=10):\n",
    "    texts = train_set[train_set['Category'] == category]['clean_text']\n",
    "    words = ' '.join(texts).split()\n",
    "    return Counter(words).most_common(n)\n",
    "\n",
    "categories = train_set['Category'].unique()\n",
    "for cat in categories:\n",
    "    print(f\"Top words for category '{cat}':\")\n",
    "    print(top_words(cat))\n",
    "    print()"
   ]
  },
  {
   "cell_type": "markdown",
   "id": "9f6b37a3-8047-412c-96bf-a2554e419404",
   "metadata": {},
   "source": [
    "3. Model training"
   ]
  },
  {
   "cell_type": "markdown",
   "id": "efaca6ba-65af-4628-aabf-bf947367d677",
   "metadata": {},
   "source": [
    "3.1 Logistic Regression will be used for the first model"
   ]
  },
  {
   "cell_type": "code",
   "execution_count": 207,
   "id": "f2382079-9db2-4f69-b745-259e8a63bb20",
   "metadata": {},
   "outputs": [
    {
     "name": "stdout",
     "output_type": "stream",
     "text": [
      "TF-IDF shapes -> X_train: (1192, 5000) , X_val: (298, 5000)\n"
     ]
    }
   ],
   "source": [
    "#First of all before the model we use TF-IDF to convert the text to numbers\n",
    "\n",
    "#Initializing the vectorizer\n",
    "tfidf = TfidfVectorizer(max_features=5000)\n",
    "\n",
    "X_train = tfidf.fit_transform(train_set['clean_text'])\n",
    "X_val = tfidf.transform(val_set['clean_text'])\n",
    "\n",
    "#Targeting labels\n",
    "y_train = train_set['Category']\n",
    "y_val = val_set['Category']\n",
    "\n",
    "print(\"TF-IDF shapes -> X_train:\", X_train.shape, \", X_val:\", X_val.shape)"
   ]
  },
  {
   "cell_type": "code",
   "execution_count": 211,
   "id": "b33d8912-0765-4ad1-886b-94dfe9bd2310",
   "metadata": {},
   "outputs": [
    {
     "name": "stdout",
     "output_type": "stream",
     "text": [
      "Validation Accuracy: 0.9664429530201343\n",
      "\n",
      "Classification Report:\n",
      "                precision    recall  f1-score   support\n",
      "\n",
      "     business       0.94      0.97      0.96        67\n",
      "entertainment       0.96      1.00      0.98        55\n",
      "     politics       0.98      0.93      0.95        55\n",
      "        sport       0.99      1.00      0.99        69\n",
      "         tech       0.96      0.92      0.94        52\n",
      "\n",
      "     accuracy                           0.97       298\n",
      "    macro avg       0.97      0.96      0.97       298\n",
      " weighted avg       0.97      0.97      0.97       298\n",
      "\n"
     ]
    }
   ],
   "source": [
    "# Initializing the model\n",
    "lr_model = LogisticRegression(max_iter=1000)\n",
    "\n",
    "#Training on training set\n",
    "lr_model.fit(X_train, y_train)\n",
    "\n",
    "#Predicting on validation set\n",
    "y_pred = lr_model.predict(X_val)\n",
    "\n",
    "#Evaluating\n",
    "accuracy = accuracy_score(y_val, y_pred)\n",
    "print(\"Validation Accuracy:\", accuracy)\n",
    "print(\"\\nClassification Report:\\n\", classification_report(y_val, y_pred))"
   ]
  },
  {
   "cell_type": "markdown",
   "id": "01cb8652-902b-40ee-9406-a9fc1c308694",
   "metadata": {},
   "source": [
    "3.2 Niave Bayes will be used for another model so we can compare the results (Out of curiosity)"
   ]
  },
  {
   "cell_type": "code",
   "execution_count": 219,
   "id": "4693e261-7fcd-42d8-a608-155e4cc35e71",
   "metadata": {},
   "outputs": [
    {
     "name": "stdout",
     "output_type": "stream",
     "text": [
      "Validation Accuracy: 0.9731543624161074\n",
      "\n",
      "Classification Report:\n",
      "                precision    recall  f1-score   support\n",
      "\n",
      "     business       0.94      0.97      0.96        67\n",
      "entertainment       1.00      1.00      1.00        55\n",
      "     politics       0.96      0.93      0.94        55\n",
      "        sport       1.00      1.00      1.00        69\n",
      "         tech       0.96      0.96      0.96        52\n",
      "\n",
      "     accuracy                           0.97       298\n",
      "    macro avg       0.97      0.97      0.97       298\n",
      " weighted avg       0.97      0.97      0.97       298\n",
      "\n"
     ]
    }
   ],
   "source": [
    "#Initializing the model \n",
    "nb_model = MultinomialNB()\n",
    "\n",
    "##Train on the training set and predict on the validation set\n",
    "nb_model.fit(X_train, y_train)\n",
    "\n",
    "y_pred_nb = nb_model.predict(X_val)\n",
    "\n",
    "#Evaluating the model\n",
    "accuracy_nb = accuracy_score(y_val, y_pred_nb)\n",
    "print(\"Validation Accuracy:\", accuracy_nb)\n",
    "print(\"\\nClassification Report:\\n\", classification_report(y_val, y_pred_nb))"
   ]
  },
  {
   "cell_type": "markdown",
   "id": "5a02d2c9-1832-4792-a3f7-84eb8ae18494",
   "metadata": {},
   "source": [
    "4. Interactive Script"
   ]
  },
  {
   "cell_type": "code",
   "execution_count": 233,
   "id": "4ff00078-f720-4932-a081-bde8bdaf3684",
   "metadata": {},
   "outputs": [],
   "source": [
    "def interactive_prediction_test(lr_model, nb_model, vectorizer):\n",
    "    print(\"Prediction Script Test\")\n",
    "    print(\"Type 'exit' to quit.\\n\")\n",
    "    \n",
    "    while True:\n",
    "        user_input = input(\"Enter a sentence: \")\n",
    "        if user_input.lower() == 'exit':\n",
    "            print(\"Exiting prediction test.\")\n",
    "            break\n",
    "        \n",
    "#Cleaning and transform input\n",
    "        cleaned_text = clean_text(user_input)\n",
    "        features = vectorizer.transform([cleaned_text])\n",
    "        \n",
    "#Predicting\n",
    "        pred_lr = lr_model.predict(features)[0]\n",
    "        pred_nb = nb_model.predict(features)[0]\n",
    "        \n",
    "#Displaying results\n",
    "        print(f\"Logistic Regression predicts: {pred_lr}\")\n",
    "        print(f\"Naive Bayes predicts:        {pred_nb}\\n\")\n"
   ]
  },
  {
   "cell_type": "code",
   "execution_count": 237,
   "id": "983184c9-7d87-4294-85d1-966000da4485",
   "metadata": {},
   "outputs": [
    {
     "name": "stdout",
     "output_type": "stream",
     "text": [
      "Prediction Script Test\n",
      "Type 'exit' to quit.\n",
      "\n"
     ]
    },
    {
     "name": "stdin",
     "output_type": "stream",
     "text": [
      "Enter a sentence:  the new smartphone release shows amazing advancements in AI technology.\n"
     ]
    },
    {
     "name": "stdout",
     "output_type": "stream",
     "text": [
      "Logistic Regression predicts: tech\n",
      "Naive Bayes predicts:        tech\n",
      "\n"
     ]
    },
    {
     "name": "stdin",
     "output_type": "stream",
     "text": [
      "Enter a sentence:  The government passed a new economic reform bill yesterday.\n"
     ]
    },
    {
     "name": "stdout",
     "output_type": "stream",
     "text": [
      "Logistic Regression predicts: business\n",
      "Naive Bayes predicts:        business\n",
      "\n"
     ]
    },
    {
     "name": "stdin",
     "output_type": "stream",
     "text": [
      "Enter a sentence:  The singer released her latest album, and fans are raving about it.\n"
     ]
    },
    {
     "name": "stdout",
     "output_type": "stream",
     "text": [
      "Logistic Regression predicts: entertainment\n",
      "Naive Bayes predicts:        entertainment\n",
      "\n"
     ]
    },
    {
     "name": "stdin",
     "output_type": "stream",
     "text": [
      "Enter a sentence:  The prime minister met with international leaders to discuss climate change.\n"
     ]
    },
    {
     "name": "stdout",
     "output_type": "stream",
     "text": [
      "Logistic Regression predicts: politics\n",
      "Naive Bayes predicts:        politics\n",
      "\n"
     ]
    },
    {
     "name": "stdin",
     "output_type": "stream",
     "text": [
      "Enter a sentence:  The football team won the championship after a thrilling final match.\n"
     ]
    },
    {
     "name": "stdout",
     "output_type": "stream",
     "text": [
      "Logistic Regression predicts: sport\n",
      "Naive Bayes predicts:        sport\n",
      "\n"
     ]
    },
    {
     "name": "stdin",
     "output_type": "stream",
     "text": [
      "Enter a sentence:  The actor invested in a new sports franchise.\n"
     ]
    },
    {
     "name": "stdout",
     "output_type": "stream",
     "text": [
      "Logistic Regression predicts: entertainment\n",
      "Naive Bayes predicts:        entertainment\n",
      "\n"
     ]
    },
    {
     "name": "stdin",
     "output_type": "stream",
     "text": [
      "Enter a sentence:  The government announced new regulations for streaming platforms.\n"
     ]
    },
    {
     "name": "stdout",
     "output_type": "stream",
     "text": [
      "Logistic Regression predicts: business\n",
      "Naive Bayes predicts:        business\n",
      "\n"
     ]
    },
    {
     "name": "stdin",
     "output_type": "stream",
     "text": [
      "Enter a sentence:  The tech company sponsors the national football team this season\n"
     ]
    },
    {
     "name": "stdout",
     "output_type": "stream",
     "text": [
      "Logistic Regression predicts: sport\n",
      "Naive Bayes predicts:        sport\n",
      "\n"
     ]
    },
    {
     "name": "stdin",
     "output_type": "stream",
     "text": [
      "Enter a sentence:  exit\n"
     ]
    },
    {
     "name": "stdout",
     "output_type": "stream",
     "text": [
      "Exiting prediction test.\n"
     ]
    }
   ],
   "source": [
    "#This runs the test \n",
    "interactive_prediction_test(lr_model, nb_model, tfidf)"
   ]
  },
  {
   "cell_type": "code",
   "execution_count": 245,
   "id": "2caf0402-3d6f-4d43-bc2e-f0f187998c3d",
   "metadata": {},
   "outputs": [],
   "source": [
    "#Bonus part - Confusion matrices for both of the models\n",
    "\n",
    "# Logistic Regression\n",
    "y_pred_lr = lr_model.predict(X_val)\n",
    "cm_lr = confusion_matrix(y_val, y_pred_lr, labels=train_set['Category'].unique())\n",
    "\n",
    "# Naive Bayes\n",
    "y_pred_nb = nb_model.predict(X_val)\n",
    "cm_nb = confusion_matrix(y_val, y_pred_nb, labels=train_set['Category'].unique())"
   ]
  },
  {
   "cell_type": "code",
   "execution_count": 247,
   "id": "1b92f811-235d-4028-8a8e-ebb19fc0ae05",
   "metadata": {},
   "outputs": [
    {
     "data": {
      "image/png": "[encoded data removed]",
      "text/plain": [
       "<Figure size 1600x600 with 4 Axes>"
      ]
     },
     "metadata": {},
     "output_type": "display_data"
    }
   ],
   "source": [
    "categories = train_set['Category'].unique()\n",
    "\n",
    "fig, axes = plt.subplots(1, 2, figsize=(16,6))\n",
    "\n",
    "#Logistic Regression model\n",
    "sns.heatmap(cm_lr, annot=True, fmt='d', cmap='Blues', \n",
    "            xticklabels=categories, yticklabels=categories, ax=axes[0])\n",
    "axes[0].set_xlabel('Predicted')\n",
    "axes[0].set_ylabel('Actual')\n",
    "axes[0].set_title('Confusion Matrix - Logistic Regression')\n",
    "\n",
    "#Naive Bayes model\n",
    "sns.heatmap(cm_nb, annot=True, fmt='d', cmap='Greens', \n",
    "            xticklabels=categories, yticklabels=categories, ax=axes[1])\n",
    "axes[1].set_xlabel('Predicted')\n",
    "axes[1].set_ylabel('Actual')\n",
    "axes[1].set_title('Confusion Matrix - Naive Bayes')\n",
    "\n",
    "plt.tight_layout()\n",
    "plt.show()"
   ]
  },
  {
   "cell_type": "markdown",
   "id": "a0066338-abd1-4a4e-95f2-180b2280edf4",
   "metadata": {},
   "source": [
    "Conclusion: \n",
    "\n",
    "Based on what the confusion matrices are showing, moslty high diagonal numbers \n",
    "and only a few off-diagonal misclassifications, it can be concluded that both models are very strong. "
   ]
  },
  {
   "cell_type": "code",
   "execution_count": null,
   "id": "4d5f352e-21d8-47a8-abf6-ba4ffc6f0ec6",
   "metadata": {},
   "outputs": [],
   "source": []
  },
  {
   "cell_type": "code",
   "execution_count": null,
   "id": "3c4b3382-8cd3-4b53-944a-bf6293202c2a",
   "metadata": {},
   "outputs": [],
   "source": []
  }
 ],
 "metadata": {
  "kernelspec": {
   "display_name": "Python [conda env:base] *",
   "language": "python",
   "name": "conda-base-py"
  },
  "language_info": {
   "codemirror_mode": {
    "name": "ipython",
    "version": 3
   },
   "file_extension": ".py",
   "mimetype": "text/x-python",
   "name": "python",
   "nbconvert_exporter": "python",
   "pygments_lexer": "ipython3",
   "version": "3.12.7"
  }
 },
 "nbformat": 4,
 "nbformat_minor": 5
}
